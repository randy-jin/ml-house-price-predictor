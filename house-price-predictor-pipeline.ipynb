{
 "cells": [
  {
   "cell_type": "code",
   "execution_count": null,
   "id": "5244b156-3dc5-455f-8a1a-c21ba3dc1a35",
   "metadata": {},
   "outputs": [],
   "source": [
    "## 🏠 House Price Prediction Pipeline\n",
    "# Author: Randy Jin\n",
    "# For: Machine Learning Engineer Coding Test @ OpenHouse.ai"
   ]
  },
  {
   "cell_type": "code",
   "execution_count": null,
   "id": "d5ce905d-4ccc-4c62-80f6-b985b565f703",
   "metadata": {},
   "outputs": [],
   "source": [
    "# ✅ 1. Imports\n",
    "\n",
    "import pandas as pd\n",
    "import numpy as np\n",
    "import matplotlib.pyplot as plt\n",
    "import seaborn as sns\n",
    "\n",
    "from sklearn.model_selection import train_test_split\n",
    "from sklearn.preprocessing import StandardScaler, OneHotEncoder\n",
    "from sklearn.compose import ColumnTransformer\n",
    "from sklearn.pipeline import Pipeline\n",
    "from sklearn.linear_model import LinearRegression\n",
    "from sklearn.metrics import mean_absolute_error, mean_squared_error, r2_score\n",
    "from sklearn.impute import SimpleImputer\n",
    "from sklearn.ensemble import RandomForestRegressor\n",
    "from sklearn.pipeline import make_pipeline\n",
    "\n",
    "import joblib\n",
    "import os"
   ]
  },
  {
   "cell_type": "code",
   "execution_count": null,
   "id": "c4afaa29-175f-4510-b040-223ca1fbf078",
   "metadata": {},
   "outputs": [],
   "source": [
    "# ✅ 2. Load Data\n",
    "df = pd.read_csv(\"dataset.csv\")\n",
    "df.head()\n",
    "# Remove Outliers\n",
    "df = df[df['SalePrice'] < 500000]\n",
    "# Log Transform Target Variable\n",
    "df['LogSalePrice'] = np.log1p(df['SalePrice'])\n"
   ]
  },
  {
   "cell_type": "code",
   "execution_count": null,
   "id": "aefd1749-b6cd-49c2-8907-433c2388b3b2",
   "metadata": {},
   "outputs": [],
   "source": [
    "# ✅ 3. Quick Data Overview\n",
    "print(df.shape)\n",
    "df.info()\n",
    "df.describe()\n",
    "df.isnull().sum().sort_values(ascending=False)"
   ]
  },
  {
   "cell_type": "code",
   "execution_count": null,
   "id": "76d6a852-a99b-4a80-9687-ede7284e1ff9",
   "metadata": {},
   "outputs": [],
   "source": [
    "# ✅ 4. Feature & Target Split\n",
    "y = df['LogSalePrice']\n",
    "X = df.drop(['SalePrice', 'LogSalePrice'], axis=1)"
   ]
  },
  {
   "cell_type": "code",
   "execution_count": null,
   "id": "f25b2e9f-a302-4035-ad60-b5420905b1d7",
   "metadata": {},
   "outputs": [],
   "source": [
    "# ✅ 5. Separate Features\n",
    "df_numeric = X.select_dtypes(include=[\"int64\", \"float64\"]).columns.tolist()\n",
    "print(\"Original Numeric fields count: \",len(df_numeric))\n",
    "df_categorical = X.select_dtypes(include=[\"object\", \"category\"]).columns.tolist()\n",
    "print(\"Original Categorical fields count: \", len(df_categorical))"
   ]
  },
  {
   "cell_type": "code",
   "execution_count": null,
   "id": "59574a4f",
   "metadata": {},
   "outputs": [],
   "source": [
    "# Check for missing values\n",
    "missing_values = df.isnull().sum()\n",
    "missing_percent = (missing_values / len(df)) * 100\n",
    "\n",
    "missing_df = pd.DataFrame({\n",
    "    'Missing Values': missing_values,\n",
    "    'Percentage': missing_percent\n",
    "})\n",
    "\n",
    "# Display columns with missing values\n",
    "print(\"\\nColumns with missing values:\")\n",
    "print(missing_df[missing_df['Missing Values'] > 0].sort_values('Percentage', ascending=False))"
   ]
  },
  {
   "cell_type": "code",
   "execution_count": null,
   "id": "6294d21c",
   "metadata": {},
   "outputs": [],
   "source": [
    "# ### Exploratory Data Analysis\n",
    "\n",
    "# Distribution of the target variable (SalePrice)\n",
    "plt.figure(figsize=(10, 6))\n",
    "sns.histplot(df['SalePrice'], kde=True)\n",
    "plt.title('Distribution of Sale Price')\n",
    "plt.xlabel('Sale Price ($)')\n",
    "plt.ylabel('Frequency')\n",
    "os.makedirs(\"images\", exist_ok=True)\n",
    "filename = os.path.join(\"images\", \"sale_price_distribution.png\")\n",
    "plt.savefig(filename)\n",
    "plt.close()\n",
    "\n",
    "# Check log transformation of SalePrice\n",
    "plt.figure(figsize=(10, 6))\n",
    "sns.histplot(np.log1p(df['SalePrice']), kde=True)\n",
    "plt.title('Distribution of Log-Transformed Sale Price')\n",
    "plt.xlabel('Log(Sale Price + 1)')\n",
    "plt.ylabel('Frequency')\n",
    "filename = os.path.join(\"images\", \"log_sale_price_distribution.png\")\n",
    "plt.savefig(filename)\n",
    "plt.close()\n",
    "\n",
    "# Correlation analysis for numerical features\n",
    "numerical_data = df.select_dtypes(include=['int64', 'float64'])\n",
    "correlation_matrix = numerical_data.corr()\n",
    "\n",
    "# Plot correlation heatmap\n",
    "plt.figure(figsize=(14, 12))\n",
    "sns.heatmap(correlation_matrix, annot=False, cmap='coolwarm', fmt='.2f')\n",
    "plt.title('Correlation Matrix of Numerical Features')\n",
    "filename = os.path.join(\"images\", \"correlation_heatmap.png\")\n",
    "plt.savefig(filename)\n",
    "plt.close()\n",
    "\n",
    "# Top correlations with SalePrice\n",
    "sale_price_corr = correlation_matrix['SalePrice'].sort_values(ascending=False)\n",
    "sale_price_corr = pd.DataFrame(sale_price_corr)\n",
    "sale_price_corr.columns = ['Correlation with SalePrice']\n",
    "print(\"\\nTop 10 Features Most Correlated with SalePrice:\")\n",
    "print(sale_price_corr.head(10))"
   ]
  },
  {
   "cell_type": "code",
   "execution_count": null,
   "id": "20802b3e-0963-41a5-b550-d22ecc367b50",
   "metadata": {},
   "outputs": [],
   "source": [
    "# ✅ 6. Preprocessing Pipelines\n",
    "numeric_pipeline = Pipeline([\n",
    "    (\"imputer\", SimpleImputer(strategy=\"median\")),\n",
    "    (\"scaler\", StandardScaler())\n",
    "])\n",
    "\n",
    "categorical_pipeline = Pipeline([\n",
    "    (\"imputer\", SimpleImputer(strategy=\"most_frequent\")),\n",
    "    (\"encoder\", OneHotEncoder(handle_unknown=\"ignore\", sparse_output=False))\n",
    "])\n",
    "\n",
    "preprocessor = ColumnTransformer([\n",
    "    (\"num\", numeric_pipeline, df_numeric),\n",
    "    (\"cat\", categorical_pipeline, df_categorical)\n",
    "])"
   ]
  },
  {
   "cell_type": "code",
   "execution_count": null,
   "id": "a946f2cf",
   "metadata": {},
   "outputs": [],
   "source": [
    "debug_pipeline = make_pipeline(preprocessor)\n",
    "transformed = debug_pipeline.fit_transform(X)\n",
    "print(transformed.shape)\n",
    "# 拿出分类的 encoder（注意这是 pipeline 里的步骤）\n",
    "encoder = preprocessor.named_transformers_['cat'].named_steps['encoder']\n",
    "\n",
    "# 获取所有 OneHot 编码生成的列名\n",
    "encoded_feature_names = encoder.get_feature_names_out(df_categorical)\n",
    "\n",
    "print(\"🚀 Transformed Categorical fields count: \", len(encoded_feature_names))\n",
    "\n",
    "print(\"🚀 Column name after OneHot encoding:\")\n",
    "print(encoded_feature_names[:len(encoded_feature_names)])\n",
    "\n",
    "final_feature_names = df_numeric + encoded_feature_names.tolist()\n",
    "print(\"🚀 Transformed fields in total: \", len(final_feature_names))\n",
    "print(\"🚀 All of the column name after OneHot encoding:\")\n",
    "print(final_feature_names[:len(final_feature_names)])"
   ]
  },
  {
   "cell_type": "code",
   "execution_count": null,
   "id": "11edb1f1-d60e-4347-bf6d-798a2e65fb3b",
   "metadata": {},
   "outputs": [],
   "source": [
    "# ✅ 7. Build Full Pipeline\n",
    "pipeline = Pipeline([\n",
    "    (\"preprocessor\", preprocessor),\n",
    "    (\"model\", LinearRegression())\n",
    "])"
   ]
  },
  {
   "cell_type": "code",
   "execution_count": null,
   "id": "ed905e9f-24f6-46cd-a3b9-194783f24a27",
   "metadata": {},
   "outputs": [],
   "source": [
    "# ✅ 8. Train/Test Split\n",
    "X_train, X_test, y_train, y_test = train_test_split(X, y, test_size=0.2, random_state=42)"
   ]
  },
  {
   "cell_type": "code",
   "execution_count": null,
   "id": "fb122645-c2cd-4b64-863e-d4fcbfcc4f53",
   "metadata": {},
   "outputs": [],
   "source": [
    "# ✅ 9. Train Model\n",
    "pipeline.fit(X_train, y_train)"
   ]
  },
  {
   "cell_type": "code",
   "execution_count": null,
   "id": "8ef94c4e-b525-42ee-8eb0-553bdfb345b2",
   "metadata": {},
   "outputs": [],
   "source": [
    "# ✅ 10. Predict & Evaluate\n",
    "y_pred_log = pipeline.predict(X_test)\n",
    "\n",
    "# Inverse Transform Back to Original Scale\n",
    "y_test_actual = np.expm1(y_test)\n",
    "y_pred_actual = np.expm1(y_pred_log)\n",
    "\n",
    "\n",
    "mae = mean_absolute_error(y_test_actual, y_pred_actual)\n",
    "mse = mean_squared_error(y_test_actual, y_pred_actual)\n",
    "rmse = np.sqrt(mse)\n",
    "r2 = r2_score(y_test_actual, y_pred_actual)\n",
    "\n",
    "print(f\"\\n📊 Evaluation Metrics (Converted to Original SalePrice):\")\n",
    "print(f\"MAE : {mae:.2f}\")\n",
    "print(f\"RMSE: {rmse:.2f}\")\n",
    "print(f\"R^2 : {r2:.4f}\")"
   ]
  },
  {
   "cell_type": "code",
   "execution_count": null,
   "id": "74ea0c38-1bd5-4a78-838c-c014b0b1b129",
   "metadata": {},
   "outputs": [],
   "source": [
    "# ✅ 11. Save Model\n",
    "joblib.dump(pipeline, \"house_price_pipeline.pkl\")"
   ]
  },
  {
   "cell_type": "code",
   "execution_count": null,
   "id": "8f5c6d93-958a-4960-8173-aeaf117e82c6",
   "metadata": {},
   "outputs": [],
   "source": [
    "# ✅ 12. Optional: Plot Prediction vs Actual\n",
    "plt.figure(figsize=(8,6))\n",
    "plt.scatter(y_test, y_pred, alpha=0.5)\n",
    "plt.plot([y_test.min(), y_test.max()], [y_test.min(), y_test.max()], '--r')\n",
    "plt.xlabel(\"Actual Price\")\n",
    "plt.ylabel(\"Predicted Price\")\n",
    "plt.title(\"Prediction vs Actual\")\n",
    "plt.tight_layout()\n",
    "plt.savefig(\"prediction_vs_actual.png\")\n",
    "plt.show()"
   ]
  },
  {
   "cell_type": "code",
   "execution_count": null,
   "id": "6a60415e-6269-4e99-bfd8-477024557961",
   "metadata": {},
   "outputs": [],
   "source": []
  }
 ],
 "metadata": {
  "kernelspec": {
   "display_name": ".venv",
   "language": "python",
   "name": "python3"
  },
  "language_info": {
   "codemirror_mode": {
    "name": "ipython",
    "version": 3
   },
   "file_extension": ".py",
   "mimetype": "text/x-python",
   "name": "python",
   "nbconvert_exporter": "python",
   "pygments_lexer": "ipython3",
   "version": "3.12.3"
  }
 },
 "nbformat": 4,
 "nbformat_minor": 5
}
